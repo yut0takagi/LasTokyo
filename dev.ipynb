{
 "cells": [
  {
   "cell_type": "markdown",
   "metadata": {},
   "source": [
    "# Lasデータを用いたデータ分析"
   ]
  },
  {
   "cell_type": "code",
   "execution_count": 16,
   "metadata": {},
   "outputs": [],
   "source": [
    "import laspy"
   ]
  },
  {
   "cell_type": "code",
   "execution_count": 17,
   "metadata": {},
   "outputs": [],
   "source": [
    "las_data = \"/Users/y.takagi/09LD1740.las\""
   ]
  },
  {
   "cell_type": "code",
   "execution_count": 18,
   "metadata": {},
   "outputs": [],
   "source": [
    "las = laspy.read(las_data)"
   ]
  },
  {
   "cell_type": "code",
   "execution_count": 19,
   "metadata": {},
   "outputs": [
    {
     "data": {
      "text/plain": [
       "<LasHeader(1.2, <PointFormat(3, 0 bytes of extra dims)>)>"
      ]
     },
     "execution_count": 19,
     "metadata": {},
     "output_type": "execute_result"
    }
   ],
   "source": [
    "header = las.header\n",
    "header"
   ]
  },
  {
   "cell_type": "code",
   "execution_count": 20,
   "metadata": {},
   "outputs": [
    {
     "data": {
      "text/plain": [
       "['DEFAULT_POINT_FORMAT',\n",
       " 'DEFAULT_VERSION',\n",
       " '_OLD_LASPY_NAMES',\n",
       " '__class__',\n",
       " '__delattr__',\n",
       " '__dict__',\n",
       " '__dir__',\n",
       " '__doc__',\n",
       " '__eq__',\n",
       " '__format__',\n",
       " '__ge__',\n",
       " '__getattr__',\n",
       " '__getattribute__',\n",
       " '__getstate__',\n",
       " '__gt__',\n",
       " '__hash__',\n",
       " '__init__',\n",
       " '__init_subclass__',\n",
       " '__le__',\n",
       " '__lt__',\n",
       " '__module__',\n",
       " '__ne__',\n",
       " '__new__',\n",
       " '__reduce__',\n",
       " '__reduce_ex__',\n",
       " '__repr__',\n",
       " '__setattr__',\n",
       " '__sizeof__',\n",
       " '__str__',\n",
       " '__subclasshook__',\n",
       " '__weakref__',\n",
       " '_point_format',\n",
       " '_prefetch_header_data',\n",
       " '_sync_extra_bytes_vlr',\n",
       " '_version',\n",
       " '_vlrs',\n",
       " 'add_crs',\n",
       " 'add_extra_dim',\n",
       " 'add_extra_dims',\n",
       " 'are_points_compressed',\n",
       " 'creation_date',\n",
       " 'evlrs',\n",
       " 'extra_header_bytes',\n",
       " 'extra_vlr_bytes',\n",
       " 'file_source_id',\n",
       " 'generating_software',\n",
       " 'global_encoding',\n",
       " 'grow',\n",
       " 'major_version',\n",
       " 'max_point_count',\n",
       " 'maxs',\n",
       " 'minor_version',\n",
       " 'mins',\n",
       " 'number_of_evlrs',\n",
       " 'number_of_points_by_return',\n",
       " 'offset_to_point_data',\n",
       " 'offsets',\n",
       " 'parse_crs',\n",
       " 'partial_reset',\n",
       " 'point_count',\n",
       " 'point_format',\n",
       " 'read_evlrs',\n",
       " 'read_from',\n",
       " 'remove_extra_dim',\n",
       " 'remove_extra_dims',\n",
       " 'scales',\n",
       " 'set_compressed',\n",
       " 'set_version_and_point_format',\n",
       " 'start_of_first_evlr',\n",
       " 'start_of_waveform_data_packet_record',\n",
       " 'system_identifier',\n",
       " 'update',\n",
       " 'uuid',\n",
       " 'version',\n",
       " 'vlrs',\n",
       " 'write_to',\n",
       " 'x_max',\n",
       " 'x_min',\n",
       " 'x_offset',\n",
       " 'x_scale',\n",
       " 'y_max',\n",
       " 'y_min',\n",
       " 'y_offset',\n",
       " 'y_scale',\n",
       " 'z_max',\n",
       " 'z_min',\n",
       " 'z_offset',\n",
       " 'z_scale']"
      ]
     },
     "execution_count": 20,
     "metadata": {},
     "output_type": "execute_result"
    }
   ],
   "source": [
    "dir(header)"
   ]
  },
  {
   "cell_type": "code",
   "execution_count": 21,
   "metadata": {},
   "outputs": [
    {
     "data": {
      "text/plain": [
       "['X',\n",
       " 'Y',\n",
       " 'Z',\n",
       " 'intensity',\n",
       " 'return_number',\n",
       " 'number_of_returns',\n",
       " 'scan_direction_flag',\n",
       " 'edge_of_flight_line',\n",
       " 'classification',\n",
       " 'synthetic',\n",
       " 'key_point',\n",
       " 'withheld',\n",
       " 'scan_angle_rank',\n",
       " 'user_data',\n",
       " 'point_source_id',\n",
       " 'gps_time',\n",
       " 'red',\n",
       " 'green',\n",
       " 'blue']"
      ]
     },
     "execution_count": 21,
     "metadata": {},
     "output_type": "execute_result"
    }
   ],
   "source": [
    "point_format = las.point_format\n",
    "list(point_format.dimension_names)"
   ]
  },
  {
   "cell_type": "code",
   "execution_count": 22,
   "metadata": {},
   "outputs": [
    {
     "data": {
      "text/plain": [
       "array([(-11999969, -34219882, 37713,  923, 73, 1, -5, 0, 62, 526713.367513  , 31097, 29555, 28013),\n",
       "       (-11999954, -34227057, 37783,  809, 73, 1, -5, 0, 62, 526713.4741801 , 30583, 29041, 27499),\n",
       "       (-11999995, -34233319, 37795,  684, 73, 1, -5, 0, 62, 526713.57418054, 28270, 26471, 24929),\n",
       "       ...,\n",
       "       (-11618270, -34499985, 36269, 1773, 17, 1, -8, 0, 66, 524928.37081677, 22616, 23901, 21074),\n",
       "       (-11614356, -34500000, 41004,  630,  9, 1, -7, 0, 66, 524928.41749972, 19789, 20046, 18761),\n",
       "       (-11613643, -34499985, 41048, 1539,  9, 1, -7, 0, 66, 524928.43083686, 20303, 20817, 19018)],\n",
       "      dtype=[('X', '<i4'), ('Y', '<i4'), ('Z', '<i4'), ('intensity', '<u2'), ('bit_fields', 'u1'), ('raw_classification', 'u1'), ('scan_angle_rank', 'i1'), ('user_data', 'u1'), ('point_source_id', '<u2'), ('gps_time', '<f8'), ('red', '<u2'), ('green', '<u2'), ('blue', '<u2')])"
      ]
     },
     "execution_count": 22,
     "metadata": {},
     "output_type": "execute_result"
    }
   ],
   "source": [
    "las.points.array"
   ]
  },
  {
   "cell_type": "code",
   "execution_count": 12,
   "metadata": {},
   "outputs": [
    {
     "data": {
      "text/plain": [
       "array([-11999969, -11999954, -11999995, ..., -11618270, -11614356,\n",
       "       -11613643], dtype=int32)"
      ]
     },
     "execution_count": 12,
     "metadata": {},
     "output_type": "execute_result"
    }
   ],
   "source": [
    "las.X"
   ]
  },
  {
   "cell_type": "code",
   "execution_count": 14,
   "metadata": {},
   "outputs": [
    {
     "name": "stdout",
     "output_type": "stream",
     "text": [
      "x_first=-11999969\n",
      "x_scale=0.001\n",
      "x_offset=-0.0\n",
      "x_coordinate=-11999.969000000001\n"
     ]
    }
   ],
   "source": [
    "# スケール・オフセットの意味\n",
    "# 座標は整数\n",
    "x_first = las.X[0]\n",
    "\n",
    "# xのスケール: 7.131602618438667e-08 -> 0.0000007\n",
    "x_scale = header.x_scale\n",
    "\n",
    "# xのoffset: -44528.753\n",
    "x_offset = header.x_offset\n",
    "\n",
    "# なので実際の座標は 531578298 * 0.0000007 + (-44528.753) = -44490.842948180776\n",
    "x_coordinate = (x_first * x_scale) + x_offset\n",
    "\n",
    "print(f\"{x_first=}\")\n",
    "print(f\"{x_scale=}\")\n",
    "print(f\"{x_offset=}\")\n",
    "print(f\"{x_coordinate=}\")\n",
    "\n",
    "# x_first=531578298\n",
    "# x_scale=7.131602618438667e-08\n",
    "# x_offset=-44528.753\n",
    "# x_coordinate=-44490.842948180776\n"
   ]
  },
  {
   "cell_type": "code",
   "execution_count": null,
   "metadata": {},
   "outputs": [],
   "source": []
  }
 ],
 "metadata": {
  "kernelspec": {
   "display_name": "base",
   "language": "python",
   "name": "python3"
  },
  "language_info": {
   "codemirror_mode": {
    "name": "ipython",
    "version": 3
   },
   "file_extension": ".py",
   "mimetype": "text/x-python",
   "name": "python",
   "nbconvert_exporter": "python",
   "pygments_lexer": "ipython3",
   "version": "3.11.0"
  }
 },
 "nbformat": 4,
 "nbformat_minor": 2
}
